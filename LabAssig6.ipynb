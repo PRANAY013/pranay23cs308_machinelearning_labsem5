{
 "cells": [
  {
   "cell_type": "code",
   "execution_count": 43,
   "id": "c995ba8a",
   "metadata": {},
   "outputs": [],
   "source": [
    "# Lab 05– Classification Models &amp; Ensemble Evaluation\n",
    "# Learning Outcomes\n",
    "# By the end of this lab, students will be able to:\n",
    "# Train decision tree (using library and from scratch)\n",
    "# Evaluate models using accuracy, ROC AUC, and confusion matrix.\n",
    "# Interpret trade-offs between models.\n",
    "# P — Project\n",
    "\n",
    "# Preprocess Churn dataset (encoding, scaling).\n",
    "# Train/test split.\n",
    "# Fit:\n",
    "# Decision Tree\n",
    "# Evaluate all models with metrics table &amp; ROC curves.\n",
    "# Save best model.\n",
    "# Resources\n",
    "# Sklearn Model Evaluation – https://scikitlearn. org/stable/modules/model_evaluation.html\n",
    "# Confusion Matrix in Sklearn – https://scikitlearn.\n",
    "# org/stable/modules/generated/sklearn.metrics.confusion_matrix.html"
   ]
  },
  {
   "cell_type": "code",
   "execution_count": 44,
   "id": "711a21bc",
   "metadata": {},
   "outputs": [],
   "source": [
    "# Import necessary libraries\n",
    "import pandas as pd\n",
    "import numpy as np\n",
    "from sklearn.model_selection import train_test_split\n",
    "from sklearn.preprocessing import LabelEncoder, StandardScaler, OneHotEncoder\n",
    "from sklearn.compose import ColumnTransformer\n",
    "from sklearn.tree import DecisionTreeClassifier\n",
    "from sklearn.metrics import accuracy_score, roc_auc_score, confusion_matrix, roc_curve\n",
    "import matplotlib.pyplot as plt\n",
    "import joblib\n",
    "import warnings\n",
    "\n",
    "# Load the dataset\n",
    "df = pd.read_csv('LabAssig5_stuff/churn.csv')"
   ]
  },
  {
   "cell_type": "code",
   "execution_count": 45,
   "id": "486be533",
   "metadata": {},
   "outputs": [
    {
     "name": "stdout",
     "output_type": "stream",
     "text": [
      "--- 1. Preprocessing Data ---\n",
      "Shape: (667, 20)\n"
     ]
    },
    {
     "data": {
      "text/html": [
       "<div>\n",
       "<style scoped>\n",
       "    .dataframe tbody tr th:only-of-type {\n",
       "        vertical-align: middle;\n",
       "    }\n",
       "\n",
       "    .dataframe tbody tr th {\n",
       "        vertical-align: top;\n",
       "    }\n",
       "\n",
       "    .dataframe thead th {\n",
       "        text-align: right;\n",
       "    }\n",
       "</style>\n",
       "<table border=\"1\" class=\"dataframe\">\n",
       "  <thead>\n",
       "    <tr style=\"text-align: right;\">\n",
       "      <th></th>\n",
       "      <th>State</th>\n",
       "      <th>Account length</th>\n",
       "      <th>Area code</th>\n",
       "      <th>International plan</th>\n",
       "      <th>Voice mail plan</th>\n",
       "      <th>Number vmail messages</th>\n",
       "      <th>Total day minutes</th>\n",
       "      <th>Total day calls</th>\n",
       "      <th>Total day charge</th>\n",
       "      <th>Total eve minutes</th>\n",
       "      <th>Total eve calls</th>\n",
       "      <th>Total eve charge</th>\n",
       "      <th>Total night minutes</th>\n",
       "      <th>Total night calls</th>\n",
       "      <th>Total night charge</th>\n",
       "      <th>Total intl minutes</th>\n",
       "      <th>Total intl calls</th>\n",
       "      <th>Total intl charge</th>\n",
       "      <th>Customer service calls</th>\n",
       "      <th>Churn</th>\n",
       "    </tr>\n",
       "  </thead>\n",
       "  <tbody>\n",
       "    <tr>\n",
       "      <th>0</th>\n",
       "      <td>LA</td>\n",
       "      <td>117</td>\n",
       "      <td>408</td>\n",
       "      <td>No</td>\n",
       "      <td>No</td>\n",
       "      <td>0</td>\n",
       "      <td>184.5</td>\n",
       "      <td>97</td>\n",
       "      <td>31.37</td>\n",
       "      <td>351.6</td>\n",
       "      <td>80</td>\n",
       "      <td>29.89</td>\n",
       "      <td>215.8</td>\n",
       "      <td>90</td>\n",
       "      <td>9.71</td>\n",
       "      <td>8.7</td>\n",
       "      <td>4</td>\n",
       "      <td>2.35</td>\n",
       "      <td>1</td>\n",
       "      <td>False</td>\n",
       "    </tr>\n",
       "    <tr>\n",
       "      <th>1</th>\n",
       "      <td>IN</td>\n",
       "      <td>65</td>\n",
       "      <td>415</td>\n",
       "      <td>No</td>\n",
       "      <td>No</td>\n",
       "      <td>0</td>\n",
       "      <td>129.1</td>\n",
       "      <td>137</td>\n",
       "      <td>21.95</td>\n",
       "      <td>228.5</td>\n",
       "      <td>83</td>\n",
       "      <td>19.42</td>\n",
       "      <td>208.8</td>\n",
       "      <td>111</td>\n",
       "      <td>9.40</td>\n",
       "      <td>12.7</td>\n",
       "      <td>6</td>\n",
       "      <td>3.43</td>\n",
       "      <td>4</td>\n",
       "      <td>True</td>\n",
       "    </tr>\n",
       "    <tr>\n",
       "      <th>2</th>\n",
       "      <td>NY</td>\n",
       "      <td>161</td>\n",
       "      <td>415</td>\n",
       "      <td>No</td>\n",
       "      <td>No</td>\n",
       "      <td>0</td>\n",
       "      <td>332.9</td>\n",
       "      <td>67</td>\n",
       "      <td>56.59</td>\n",
       "      <td>317.8</td>\n",
       "      <td>97</td>\n",
       "      <td>27.01</td>\n",
       "      <td>160.6</td>\n",
       "      <td>128</td>\n",
       "      <td>7.23</td>\n",
       "      <td>5.4</td>\n",
       "      <td>9</td>\n",
       "      <td>1.46</td>\n",
       "      <td>4</td>\n",
       "      <td>True</td>\n",
       "    </tr>\n",
       "  </tbody>\n",
       "</table>\n",
       "</div>"
      ],
      "text/plain": [
       "  State  Account length  Area code International plan Voice mail plan  \\\n",
       "0    LA             117        408                 No              No   \n",
       "1    IN              65        415                 No              No   \n",
       "2    NY             161        415                 No              No   \n",
       "\n",
       "   Number vmail messages  Total day minutes  Total day calls  \\\n",
       "0                      0              184.5               97   \n",
       "1                      0              129.1              137   \n",
       "2                      0              332.9               67   \n",
       "\n",
       "   Total day charge  Total eve minutes  Total eve calls  Total eve charge  \\\n",
       "0             31.37              351.6               80             29.89   \n",
       "1             21.95              228.5               83             19.42   \n",
       "2             56.59              317.8               97             27.01   \n",
       "\n",
       "   Total night minutes  Total night calls  Total night charge  \\\n",
       "0                215.8                 90                9.71   \n",
       "1                208.8                111                9.40   \n",
       "2                160.6                128                7.23   \n",
       "\n",
       "   Total intl minutes  Total intl calls  Total intl charge  \\\n",
       "0                 8.7                 4               2.35   \n",
       "1                12.7                 6               3.43   \n",
       "2                 5.4                 9               1.46   \n",
       "\n",
       "   Customer service calls  Churn  \n",
       "0                       1  False  \n",
       "1                       4   True  \n",
       "2                       4   True  "
      ]
     },
     "metadata": {},
     "output_type": "display_data"
    },
    {
     "name": "stdout",
     "output_type": "stream",
     "text": [
      "# numeric: 16, # categorical: 3\n"
     ]
    }
   ],
   "source": [
    "# --- 1. Preprocess Churn dataset (encoding, scaling) ---\n",
    "print(\"--- 1. Preprocessing Data ---\")\n",
    "\n",
    "dataset_path = \"LabAssig5_stuff/churn.csv\"\n",
    "\n",
    "df = pd.read_csv(dataset_path)\n",
    "df = df.dropna(subset=[\"Churn\"])\n",
    "\n",
    "# Normalize to binary int\n",
    "df[\"Churn\"] = df[\"Churn\"].astype(str).str.strip()\n",
    "y = df[\"Churn\"].map({\n",
    "    True: 1, False: 0,\n",
    "    \"True\": 1, \"False\": 0,\n",
    "    \"Yes\": 1, \"No\": 0,\n",
    "    \"Y\": 1, \"N\": 0,\n",
    "    \"1\": 1, \"0\": 0\n",
    "}).astype(int)\n",
    "\n",
    "X = df.drop(columns=[\"Churn\"])\n",
    "print(\"Shape:\", df.shape)\n",
    "display(df.head(3))\n",
    "\n",
    "# Identify numeric and categorical columns\n",
    "num_cols = X.select_dtypes(include=[np.number]).columns.tolist()\n",
    "cat_cols = X.select_dtypes(exclude=[np.number]).columns.tolist()\n",
    "\n",
    "# Handle all-NaN or empty\n",
    "if len(num_cols) == 0 and len(cat_cols) == 0:\n",
    "    raise ValueError(\"No usable feature columns found.\")\n",
    "\n",
    "num_transformer = StandardScaler()\n",
    "\n",
    "try:\n",
    "    cat_transformer = OneHotEncoder(handle_unknown=\"ignore\", sparse_output=False)\n",
    "except TypeError:\n",
    "    cat_transformer = OneHotEncoder(handle_unknown=\"ignore\", sparse=False)\n",
    "\n",
    "preprocess = ColumnTransformer(\n",
    "    transformers=[\n",
    "        (\"num\", num_transformer, num_cols) if len(num_cols) else (\"num\", \"drop\", []),\n",
    "        (\"cat\", cat_transformer, cat_cols) if len(cat_cols) else (\"cat\", \"drop\", []),\n",
    "    ],\n",
    "    remainder='passthrough'\n",
    ")\n",
    "\n",
    "print(f\"# numeric: {len(num_cols)}, # categorical: {len(cat_cols)}\")\n"
   ]
  },
  {
   "cell_type": "code",
   "execution_count": 46,
   "id": "844ec06a",
   "metadata": {},
   "outputs": [
    {
     "name": "stdout",
     "output_type": "stream",
     "text": [
      "--- 2. Splitting Data and Preparing for Scaling ---\n",
      "Data split into 800 training and 200 testing samples.\n",
      "\n",
      "Scaling complete. The scaler was fit on the training data and applied to both sets.\n"
     ]
    }
   ],
   "source": [
    "# --- 2. Splitting Data and Scaling Features ---\n",
    "print(\"--- 2. Splitting Data and Preparing for Scaling ---\")\n",
    "\n",
    "# First, split the raw, unscaled data into training and testing sets\n",
    "X = data.drop('Churn', axis=1)\n",
    "y = data['Churn']\n",
    "\n",
    "X_train, X_test, y_train, y_test = train_test_split(X, y, test_size=0.2, random_state=42, stratify=y)\n",
    "print(f\"Data split into {len(X_train)} training and {len(X_test)} testing samples.\\n\")\n",
    "\n",
    "# Now, prepare the scaler\n",
    "scaler = StandardScaler()\n",
    "\n",
    "# Fit the scaler ONLY on the training data\n",
    "scaler.fit(X_train)\n",
    "\n",
    "# Use the fitted scaler to transform both the training and test data\n",
    "X_train_scaled = scaler.transform(X_train)\n",
    "X_test_scaled = scaler.transform(X_test)\n",
    "\n",
    "print(\"Scaling complete. The scaler was fit on the training data and applied to both sets.\")\n"
   ]
  },
  {
   "cell_type": "code",
   "execution_count": 47,
   "id": "f9ae49bf",
   "metadata": {},
   "outputs": [
    {
     "name": "stdout",
     "output_type": "stream",
     "text": [
      "--- 3. Training Decision Tree Model ---\n",
      "Decision Tree model trained successfully.\n",
      "\n"
     ]
    }
   ],
   "source": [
    "# 3. Fit Decision Tree\n",
    "print(\"--- 3. Training Decision Tree Model ---\")\n",
    "dt_classifier = DecisionTreeClassifier(random_state=42)\n",
    "dt_classifier.fit(X_train, y_train)\n",
    "print(\"Decision Tree model trained successfully.\\n\")"
   ]
  },
  {
   "cell_type": "code",
   "execution_count": 48,
   "id": "f2e30675",
   "metadata": {},
   "outputs": [
    {
     "name": "stdout",
     "output_type": "stream",
     "text": [
      "--- 4. Evaluating Model ---\n",
      "Metrics Table:\n",
      "     Metric  Decision Tree\n",
      "0  Accuracy       0.540000\n",
      "1   ROC AUC       0.539586\n",
      "\n",
      "Confusion Matrix (Decision Tree):\n",
      "[[57 46]\n",
      " [46 51]]\n"
     ]
    },
    {
     "data": {
      "image/png": "[encoded data removed]",
      "text/plain": [
       "<Figure size 800x600 with 1 Axes>"
      ]
     },
     "metadata": {},
     "output_type": "display_data"
    },
    {
     "name": "stdout",
     "output_type": "stream",
     "text": [
      "Evaluation complete.\n",
      "\n"
     ]
    }
   ],
   "source": [
    "# 4. Evaluate all models with metrics table & ROC curves\n",
    "print(\"--- 4. Evaluating Model ---\")\n",
    "\n",
    "# Make predictions\n",
    "y_pred_dt = dt_classifier.predict(X_test)\n",
    "y_proba_dt = dt_classifier.predict_proba(X_test)[:, 1]\n",
    "\n",
    "# Calculate metrics\n",
    "accuracy_dt = accuracy_score(y_test, y_pred_dt)\n",
    "roc_auc_dt = roc_auc_score(y_test, y_proba_dt)\n",
    "conf_matrix_dt = confusion_matrix(y_test, y_pred_dt)\n",
    "\n",
    "# Create metrics table\n",
    "metrics_data = {\n",
    "    'Metric': ['Accuracy', 'ROC AUC'],\n",
    "    'Decision Tree': [accuracy_dt, roc_auc_dt]\n",
    "}\n",
    "metrics_df = pd.DataFrame(metrics_data)\n",
    "\n",
    "print(\"Metrics Table:\")\n",
    "print(metrics_df)\n",
    "print(\"\\nConfusion Matrix (Decision Tree):\")\n",
    "print(conf_matrix_dt)\n",
    "\n",
    "# Plot ROC Curve\n",
    "fpr_dt, tpr_dt, _ = roc_curve(y_test, y_proba_dt)\n",
    "plt.figure(figsize=(8, 6))\n",
    "plt.plot(fpr_dt, tpr_dt, label=f'Decision Tree (AUC = {roc_auc_dt:.2f})')\n",
    "plt.plot([0, 1], [0, 1], 'k--', label='Chance')\n",
    "plt.xlabel('False Positive Rate')\n",
    "plt.ylabel('True Positive Rate')\n",
    "plt.title('ROC Curve for Decision Tree Classifier')\n",
    "plt.legend()\n",
    "plt.grid(True)\n",
    "plt.show()\n",
    "print(\"Evaluation complete.\\n\")\n",
    "\n"
   ]
  },
  {
   "cell_type": "code",
   "execution_count": 49,
   "id": "dd081f8e",
   "metadata": {},
   "outputs": [
    {
     "name": "stdout",
     "output_type": "stream",
     "text": [
      "--- 5. Saving Model ---\n",
      "Model saved as 'decision_tree_model_lab6.joblib'.\n"
     ]
    }
   ],
   "source": [
    "# 5. Save best model\n",
    "print(\"--- 5. Saving Model ---\")\n",
    "# In this case, we only have one model, so we save it.\n",
    "model_filename = 'decision_tree_model_lab6.joblib'\n",
    "joblib.dump(dt_classifier, model_filename)\n",
    "print(f\"Model saved as '{model_filename}'.\")"
   ]
  }
 ],
 "metadata": {
  "kernelspec": {
   "display_name": "Python 3",
   "language": "python",
   "name": "python3"
  },
  "language_info": {
   "codemirror_mode": {
    "name": "ipython",
    "version": 3
   },
   "file_extension": ".py",
   "mimetype": "text/x-python",
   "name": "python",
   "nbconvert_exporter": "python",
   "pygments_lexer": "ipython3",
   "version": "3.9.6"
  }
 },
 "nbformat": 4,
 "nbformat_minor": 5
}
