{
 "cells": [
  {
   "cell_type": "code",
   "execution_count": 10,
   "id": "2af7c815",
   "metadata": {},
   "outputs": [],
   "source": [
    "# Lab 09– Ensemble Learning - Boosting\n",
    "# Learning Outcomes\n",
    "# By the end of this lab, students will be able to:\n",
    "# Implement AdaBoost\n",
    "# Build sklearn pipeline with preprocessing + classifier\n",
    "# Evaluate models using accuracy, ROC AUC, and confusion matrix.\n",
    "# P — Project\n",
    "# Preprocess Churn dataset\n",
    "# Train/test split.\n",
    "# Fit:\n",
    "# Implement AdaBoost\n",
    "# Build sklearn pipeline with preprocessing + classifier\n",
    "# Evaluate models using accuracy, precision, recall, f1-score, ROC AUC, and confusion\n",
    "# matrix.\n",
    "# Resources\n",
    "# Sklearn Model Evaluation – https://scikitlearn. org/stable/modules/model_evaluation.html\n",
    "# Confusion Matrix in Sklearn – https://scikitlearn.\n",
    "# org/stable/modules/generated/sklearn.metrics.confusion_matrix.html"
   ]
  },
  {
   "cell_type": "code",
   "execution_count": 11,
   "id": "43156373",
   "metadata": {},
   "outputs": [
    {
     "name": "stdout",
     "output_type": "stream",
     "text": [
      "Libraries imported.\n"
     ]
    }
   ],
   "source": [
    "import pandas as pd\n",
    "import numpy as np\n",
    "import matplotlib.pyplot as plt\n",
    "\n",
    "# Preprocessing\n",
    "from sklearn.model_selection import train_test_split\n",
    "from sklearn.preprocessing import StandardScaler, OneHotEncoder\n",
    "from sklearn.compose import ColumnTransformer\n",
    "from sklearn.pipeline import Pipeline\n",
    "\n",
    "# Model\n",
    "from sklearn.ensemble import AdaBoostClassifier\n",
    "from sklearn.tree import DecisionTreeClassifier\n",
    "\n",
    "# Evaluation\n",
    "from sklearn.metrics import (\n",
    "    accuracy_score,\n",
    "    precision_score,\n",
    "    recall_score,\n",
    "    f1_score,\n",
    "    roc_auc_score,\n",
    "    confusion_matrix,\n",
    "    ConfusionMatrixDisplay\n",
    ")\n",
    "\n",
    "print(\"Libraries imported.\")"
   ]
  },
  {
   "cell_type": "code",
   "execution_count": 12,
   "id": "c1d0649f",
   "metadata": {},
   "outputs": [
    {
     "name": "stdout",
     "output_type": "stream",
     "text": [
      "Dataset loaded.\n",
      "\n",
      "Shape: (7032, 21)\n",
      "\n",
      "Head of features:\n",
      "   gender  SeniorCitizen Partner Dependents  tenure PhoneService  \\\n",
      "0  Female              0     Yes         No       1           No   \n",
      "1    Male              0      No         No      34          Yes   \n",
      "2    Male              0      No         No       2          Yes   \n",
      "\n",
      "      MultipleLines InternetService OnlineSecurity OnlineBackup  \\\n",
      "0  No phone service             DSL             No          Yes   \n",
      "1                No             DSL            Yes           No   \n",
      "2                No             DSL            Yes          Yes   \n",
      "\n",
      "  DeviceProtection TechSupport StreamingTV StreamingMovies        Contract  \\\n",
      "0               No          No          No              No  Month-to-month   \n",
      "1              Yes          No          No              No        One year   \n",
      "2               No          No          No              No  Month-to-month   \n",
      "\n",
      "  PaperlessBilling     PaymentMethod  MonthlyCharges  TotalCharges  \n",
      "0              Yes  Electronic check           29.85         29.85  \n",
      "1               No      Mailed check           56.95       1889.50  \n",
      "2              Yes      Mailed check           53.85        108.15  \n",
      "\n",
      "# numeric features: 4\n",
      "# categorical features: 15\n",
      "Preprocessing done.\n"
     ]
    }
   ],
   "source": [
    "# 1. Load Data\n",
    "dataset_url = \"https://raw.githubusercontent.com/IBM/telco-customer-churn-on-icp4d/master/data/Telco-Customer-Churn.csv\"\n",
    "\n",
    "try:\n",
    "    df = pd.read_csv(dataset_url)\n",
    "    print(f\"Dataset loaded.\")\n",
    "except Exception as e:\n",
    "    print(f\"Error loading dataset: {e}\")\n",
    "    exit()\n",
    "\n",
    "# Data Cleaning\n",
    "df['TotalCharges'] = pd.to_numeric(df['TotalCharges'], errors='coerce')\n",
    "df.dropna(subset=['TotalCharges'], inplace=True)\n",
    "\n",
    "# Preprocessing\n",
    "df[\"Churn\"] = df[\"Churn\"].astype(str).str.strip()\n",
    "try:\n",
    "    y = df[\"Churn\"].map({\n",
    "        \"Yes\": 1, \"No\": 0\n",
    "    }).astype(int)\n",
    "except Exception as e:\n",
    "    print(f\"Error mapping target variable 'Churn'. Error: {e}\")\n",
    "    print(\"Unique values in 'Churn' column:\", df['Churn'].unique())\n",
    "    exit()\n",
    "\n",
    "X = df.drop(columns=[\"Churn\", \"customerID\"])\n",
    "print(\"\\nShape:\", df.shape)\n",
    "print(\"\\nHead of features:\")\n",
    "print(X.head(3))\n",
    "\n",
    "# Identify numeric and categorical columns\n",
    "num_cols = X.select_dtypes(include=np.number).columns.tolist()\n",
    "cat_cols = X.select_dtypes(exclude=np.number).columns.tolist()\n",
    "\n",
    "num_transformer = StandardScaler()\n",
    "cat_transformer = OneHotEncoder(handle_unknown=\"ignore\", sparse_output=False)\n",
    "\n",
    "preprocessor = ColumnTransformer(\n",
    "    transformers=[\n",
    "        (\"num\", num_transformer, num_cols),\n",
    "        (\"cat\", cat_transformer, cat_cols),\n",
    "    ],\n",
    "    remainder='passthrough'\n",
    ")\n",
    "\n",
    "print(f\"\\n# numeric features: {len(num_cols)}\")\n",
    "print(f\"# categorical features: {len(cat_cols)}\")\n",
    "print(\"Preprocessing done.\")"
   ]
  },
  {
   "cell_type": "code",
   "execution_count": 13,
   "id": "8d332ab8",
   "metadata": {},
   "outputs": [
    {
     "name": "stdout",
     "output_type": "stream",
     "text": [
      "Train shape: (5625, 19)  Test shape: (1407, 19)\n",
      "Target balance (train): 0.2658\n",
      "Target balance (test): 0.2658\n"
     ]
    }
   ],
   "source": [
    "# 2. Train/Test Split\n",
    "strata = y if y.nunique() > 1 else None\n",
    "X_train, X_test, y_train, y_test = train_test_split(\n",
    "    X, y,\n",
    "    test_size=0.2,\n",
    "    random_state=42,\n",
    "    stratify=strata\n",
    ")\n",
    "\n",
    "print(\"Train shape:\", X_train.shape, \" Test shape:\", X_test.shape)\n",
    "print(\"Target balance (train):\", y_train.mean().round(4))\n",
    "print(\"Target balance (test):\", y_test.mean().round(4))"
   ]
  },
  {
   "cell_type": "code",
   "execution_count": 14,
   "id": "75c5bdc2",
   "metadata": {},
   "outputs": [
    {
     "name": "stdout",
     "output_type": "stream",
     "text": [
      "\n",
      "--- Building AdaBoost Pipeline ---\n",
      "Pipeline created.\n"
     ]
    }
   ],
   "source": [
    "# 3. Build Pipeline\n",
    "print(\"\\n--- Building AdaBoost Pipeline ---\")\n",
    "\n",
    "base_estimator = DecisionTreeClassifier(max_depth=1, random_state=42)\n",
    "\n",
    "adaboost_model = AdaBoostClassifier(\n",
    "    estimator=base_estimator,\n",
    "    n_estimators=50,       # 50 is a common default\n",
    "    learning_rate=1.0,\n",
    "    random_state=42\n",
    ")\n",
    "\n",
    "pipeline = Pipeline(steps=[\n",
    "    ('preprocessor', preprocessor),\n",
    "    ('classifier', adaboost_model)\n",
    "])\n",
    "\n",
    "print(\"Pipeline created.\")"
   ]
  },
  {
   "cell_type": "code",
   "execution_count": 15,
   "id": "38d2cab2",
   "metadata": {},
   "outputs": [
    {
     "name": "stdout",
     "output_type": "stream",
     "text": [
      "\n",
      "--- Training Model ---\n",
      "Pipeline fitting completed successfully.\n"
     ]
    }
   ],
   "source": [
    "# 4. Fit Model\n",
    "print(\"\\n--- Training Model ---\")\n",
    "try:\n",
    "    pipeline.fit(X_train, y_train)\n",
    "    print(\"Pipeline fitting completed successfully.\")\n",
    "except Exception as e:\n",
    "    print(f\"Error during model fitting: {e}\")\n",
    "    exit()\n"
   ]
  },
  {
   "cell_type": "code",
   "execution_count": 16,
   "id": "0ed49514",
   "metadata": {},
   "outputs": [
    {
     "name": "stdout",
     "output_type": "stream",
     "text": [
      "\n",
      "--- Model Evaluation on Test Set ---\n",
      "Accuracy:    0.7903\n",
      "Precision:   0.6262\n",
      "Recall:      0.5241\n",
      "F1-Score:    0.5706\n",
      "ROC AUC:     0.8356\n",
      "\n",
      "--- Confusion Matrix ---\n",
      "Displaying Confusion Matrix plot...\n"
     ]
    },
    {
     "data": {
      "image/png": "[encoded data removed]",
      "text/plain": [
       "<Figure size 640x480 with 2 Axes>"
      ]
     },
     "metadata": {},
     "output_type": "display_data"
    },
    {
     "name": "stdout",
     "output_type": "stream",
     "text": [
      "\n",
      "Execution finished.\n"
     ]
    }
   ],
   "source": [
    "# 5. Evaluate Model\n",
    "print(\"\\n--- Model Evaluation on Test Set ---\")\n",
    "\n",
    "y_pred = pipeline.predict(X_test)\n",
    "y_pred_proba = pipeline.predict_proba(X_test)[:, 1]\n",
    "\n",
    "try:\n",
    "    accuracy = accuracy_score(y_test, y_pred)\n",
    "    precision = precision_score(y_test, y_pred)\n",
    "    recall = recall_score(y_test, y_pred)\n",
    "    f1 = f1_score(y_test, y_pred)\n",
    "    roc_auc = roc_auc_score(y_test, y_pred_proba)\n",
    "\n",
    "    print(f\"Accuracy:    {accuracy:.4f}\")\n",
    "    print(f\"Precision:   {precision:.4f}\")\n",
    "    print(f\"Recall:      {recall:.4f}\")\n",
    "    print(f\"F1-Score:    {f1:.4f}\")\n",
    "    print(f\"ROC AUC:     {roc_auc:.4f}\")\n",
    "\n",
    "    # Confusion Matrix\n",
    "    print(\"\\n--- Confusion Matrix ---\")\n",
    "    cm = confusion_matrix(y_test, y_pred, labels=pipeline.classes_)\n",
    "    \n",
    "    display_labels = ['No' if i == 0 else 'Yes' for i in pipeline.classes_]\n",
    "\n",
    "    disp = ConfusionMatrixDisplay(confusion_matrix=cm,\n",
    "                                  display_labels=display_labels)\n",
    "\n",
    "    disp.plot(cmap=plt.cm.Blues)\n",
    "    plt.title(\"Confusion Matrix - AdaBoost Classifier\")\n",
    "    print(\"Displaying Confusion Matrix plot...\")\n",
    "    plt.show()\n",
    "\n",
    "except Exception as e:\n",
    "    print(f\"Error during model evaluation: {e}\")\n",
    "\n",
    "print(\"\\nExecution finished.\")"
   ]
  }
 ],
 "metadata": {
  "kernelspec": {
   "display_name": "Python 3",
   "language": "python",
   "name": "python3"
  },
  "language_info": {
   "codemirror_mode": {
    "name": "ipython",
    "version": 3
   },
   "file_extension": ".py",
   "mimetype": "text/x-python",
   "name": "python",
   "nbconvert_exporter": "python",
   "pygments_lexer": "ipython3",
   "version": "3.9.6"
  }
 },
 "nbformat": 4,
 "nbformat_minor": 5
}
